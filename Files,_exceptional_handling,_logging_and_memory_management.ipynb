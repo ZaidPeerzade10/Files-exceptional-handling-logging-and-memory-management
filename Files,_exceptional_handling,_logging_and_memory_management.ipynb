{
  "nbformat": 4,
  "nbformat_minor": 0,
  "metadata": {
    "colab": {
      "provenance": []
    },
    "kernelspec": {
      "name": "python3",
      "display_name": "Python 3"
    },
    "language_info": {
      "name": "python"
    }
  },
  "cells": [
    {
      "cell_type": "markdown",
      "source": [
        "# Files, exceptional handling, logging and memory management\n",
        "\n"
      ],
      "metadata": {
        "id": "PSdimL2CXY14"
      }
    },
    {
      "cell_type": "markdown",
      "source": [
        "#Theoratical Questions"
      ],
      "metadata": {
        "id": "5BylahtMStfi"
      }
    },
    {
      "cell_type": "markdown",
      "source": [
        "1. What is the difference between interpreted and compiled languages?\n",
        "   - Interpreted languages run code line by line, hence more flexible but typically slower.\n",
        "   - Compiled languages compile the whole code into machine code before running, resulting in improved performance.\n",
        "   - Interpreted languages are simpler to debug, whereas compiled languages need recompilation following modifications.\n",
        "\n",
        "2. What is exception handling in Python?\n",
        "   - Exception handling in Python enables a program to catch and handle runtime errors through try, except, finally, and else blocks.\n",
        "   - This avoids sudden crashes and offers a controlled mechanism to handle unexpected situations.\n",
        "   - It enhances the robustness and reliability of a program.\n",
        "\n",
        "3. What is the purpose of the finally block in exception handling?\n",
        "   - The finally block guarantees that certain cleanup code, like closing files or freeing resources, always runs.\n",
        "   - It does so whether or not an exception is thrown in the try block.\n",
        "   - This comes in handy for resource management in programs.\n",
        "\n",
        "4. What is logging in Python?\n",
        "   - Logging is a built-in module that facilitates writing messages regarding the running of a program for monitoring and debugging purposes.\n",
        "   - It supplies various levels of logging such as DEBUG, INFO, WARNING, ERROR, and CRITICAL.\n",
        "   - This aids programmers in monitoring the behavior of the program and even diagnosing issues efficiently.\n",
        "\n",
        "5. What is the significance of the __del__ method in Python?\n",
        "   - The __del__ method is a destructor that is invoked when an object is being destroyed.\n",
        "   - It can be used for cleanup tasks such as closing database connections or freeing resources.\n",
        "   - Overuse of __del__ will cause problems with circular references.\n",
        "\n",
        "6. What is the difference between import and from ... import in Python?\n",
        "   - The import module statement imports the whole module, and you need to access module.function().\n",
        "   - The from module import function statement imports individual functions so that they can be accessed directly without qualifying with the module name.\n",
        "   - The latter minimizes namespace pollution but can cause collisions.\n",
        "\n",
        "7. How can you handle multiple exceptions in Python?\n",
        "   - Python provides the facility to handle multiple exceptions through multiple except blocks for various types of errors. Alternatively, a tuple may be used in a single except block, such as except 'TypeError, ValueError' as e. This allows different exceptions to be handled suitably without the program crashing.\n",
        "\n",
        "8. What is the purpose of the with statement when handling files in Python?\n",
        "   - The with statement automatically makes proper opening and closing of files.\n",
        "   - It is free from explicitly calling file.close(), which saves us from potential resource leaks.\n",
        "   - It enhances the readability and dependability of the code in handling files.\n",
        "\n",
        "9. What is the difference between multithreading and multiprocessing?\n",
        "   - Multithreading executes multiple threads in the same process, having a shared memory but being plagued by the Global Interpreter Lock.\n",
        "   - Multiprocessing executes distinct processes with distinct memory, hence being more suitable for CPU-intensive tasks.\n",
        "   - Multithreading is suitable for I/O-intensive tasks, whereas multiprocessing is best for parallel execution of CPU-intensive tasks.\n",
        "\n",
        "10. What are the advantages of using logging in a program?\n",
        "   - Logging facilitates program execution monitoring, simplifying debugging and maintainability.\n",
        "   - It enables the recording of important events without stopping the program flow.\n",
        "   - It also facilitates the monitoring of applications in deployment environments.\n",
        "\n",
        "11. What is memory management in Python?\n",
        "   - Python manages memory allocation automatically with the help of reference counting and garbage collection.\n",
        "   - Python dynamically allocates and deallocates memory for performance optimization.\n",
        "   - The gc module assists in circular reference management, which reference counting cannot manage on its own.\n",
        "\n",
        "12. What are the basic steps involved in exception handling in Python?\n",
        "   - Exception handling begins with a try block where code attempt is made.\n",
        "   - If any error arises, it is caught through an except block to avoid program crashes.\n",
        "   - Optionally, else can be utilized for code that executes only if no exception arises, and finally guarantees cleanup execution.\n",
        "\n",
        "13. Why is memory management important in Python?\n",
        "   - Effective memory management avoids memory leaks, ensuring application performance optimization.\n",
        "   - It frees unused memory to avoid system slowing down.\n",
        "   - Bad memory management results in crashes and wastage of resources.\n",
        "\n",
        "14. What is the role of try and except in exception handling?\n",
        "   - The try block holds code that may throw an exception.\n",
        "   - The except block traps and handles exceptions, avoiding the sudden termination of a program.\n",
        "   - This will ensure that errors are caught in a gentle manner and something else can be done.\n",
        "\n",
        "15. How does Python's garbage collection system work?\n",
        "   - Python has a garbage collector that automatically releases unused objects with reference counting and a cyclic garbage collector.\n",
        "   - An object is released when its reference count drops to zero.\n",
        "   - Garbage collection can be controlled manually with the gc module.\n",
        "\n",
        "16. What is the purpose of the else block in exception handling?\n",
        "   - The else block executes only when there are no exceptions within the try block.\n",
        "   - It helps in keeping error-free code execution independent of exception-handling logic.\n",
        "   - This makes code more understandable by keeping normal execution independent of error handling.\n",
        "\n",
        "17. What are the common logging levels in Python?\n",
        "   - Python has five logging levels: DEBUG (low-level information), INFO (general events), WARNING (possible problems), ERROR (serious errors), and CRITICAL (fatal errors).\n",
        "   - They are used to filter log messages by their importance.\n",
        "   - They are utilized by developers to monitor and debug applications effectively.\n",
        "\n",
        "18. What is the difference between os.fork() and multiprocessing in Python?\n",
        "   - os.fork() makes a child process by copying the parent, but it is only available on Unix platforms.\n",
        "   - The multiprocessing module offers a cross-platform method of creating processes with more flexibility. Unlike os.fork(), multiprocessing supports simple inter-process communication.\n",
        "\n",
        "19. What is the importance of closing a file in Python?\n",
        "   - Closing a file saves all the changes and guards against data corruption.\n",
        "   - Closing the file also releases system resources occupied by the file.\n",
        "   - Failure to close files causes memory leaks and erratic behavior.\n",
        "\n",
        "20. What is the difference between file.read() and file.readline() in Python?\n",
        "   - file.read() reads the file all at once into one string, whereas file.\n",
        "   - readline() reads line by line. read() can be used for small files, but readline() is better memory-wise when dealing with big files.\n",
        "   - Utilizing readline() prevents the file from being loaded into memory in one go.\n",
        "\n",
        "21. What is the logging module in Python used for?\n",
        "   - The logging module assists in recording program execution, error, and debugging messages.\n",
        "   - It enables developers to monitor application behavior over a period of time.\n",
        "   - Logs may be written to files, printed to the console, or passed to monitoring systems.\n",
        "\n",
        "22. What is the os module in Python used for in file handling?\n",
        "   - The os module is used to interact with the operating system for directory and file operations.\n",
        "   - It supports methods such as os.remove() for deleting files, os.rename() for renaming files, and os.mkdir() for creating directories.\n",
        "   - It is employed for automating file system operations.\n",
        "\n",
        "23. What are the challenges associated with memory management in Python?\n",
        "   - Python's memory management is susceptible to circular references and fragmentation.\n",
        "   - The built-in garbage collector does not instantly free huge objects, creating temporary memory bloat.\n",
        "   - It takes expertise in using memory profiling tools to efficiently handle large datasets.\n",
        "\n",
        "24.  How do you raise an exception manually in Python?\n",
        "   - Employ the raise keyword to cause exceptions explicitly, such as raise ValueError(\"Invalid input\").\n",
        "   - It comes handy in imposing constraints or dealing with unanticipated situations.\n",
        "   - Custom exceptions can be defined by inheriting Exception.\n",
        "\n",
        "25. Why is it important to use multithreading in certain applications?\n",
        "   - Multithreading enhances performance in programs with I/O-bound operation, such as file access and network calls.\n",
        "   - It supports simultaneous execution, not allowing one thread to hold up the program.\n",
        "   - Nevertheless, because of the GIL, it does not work for CPU-bound processes in Python."
      ],
      "metadata": {
        "id": "-xG2mHB-Xf84"
      }
    },
    {
      "cell_type": "markdown",
      "source": [
        "#Practical Questions"
      ],
      "metadata": {
        "id": "gnVUxRNjSbQg"
      }
    },
    {
      "cell_type": "code",
      "source": [
        "# 1. How can you open a file for writing in Python and write a string to it?\n",
        "with open(\"example.txt\", \"w\") as file:\n",
        "    file.write(\"Hello, world!\")"
      ],
      "metadata": {
        "id": "H69L-STmhLBs"
      },
      "execution_count": 1,
      "outputs": []
    },
    {
      "cell_type": "code",
      "source": [
        "# 2. Write a Python program to read the contents of a file and print each line.\n",
        "with open(\"example.txt\", \"r\") as file:\n",
        "    for line in file:\n",
        "        print(line.strip())\n"
      ],
      "metadata": {
        "colab": {
          "base_uri": "https://localhost:8080/"
        },
        "id": "B-Wi_UxrhzxA",
        "outputId": "fa4a8a21-660a-4638-ac55-bfe7616755b1"
      },
      "execution_count": 2,
      "outputs": [
        {
          "output_type": "stream",
          "name": "stdout",
          "text": [
            "Hello, world!\n"
          ]
        }
      ]
    },
    {
      "cell_type": "code",
      "source": [
        "# 3. How would you handle a case where the file doesn't exist while trying to open it for reading?\n",
        "try:\n",
        "    with open(\"non_existent.txt\", \"r\") as file:\n",
        "        print(file.read())\n",
        "except FileNotFoundError:\n",
        "    print(\"File not found!\")"
      ],
      "metadata": {
        "colab": {
          "base_uri": "https://localhost:8080/"
        },
        "id": "EhyMx1qjhyNw",
        "outputId": "47398857-e4b0-43c3-e2cf-d141b3372f9c"
      },
      "execution_count": 3,
      "outputs": [
        {
          "output_type": "stream",
          "name": "stdout",
          "text": [
            "File not found!\n"
          ]
        }
      ]
    },
    {
      "cell_type": "code",
      "source": [
        "# 4. Write a Python script that reads from one file and writes its content to another file.\n",
        "with open(\"example.txt\", \"r\") as source, open(\"destination.txt\", \"w\") as destination:\n",
        "    destination.write(source.read())"
      ],
      "metadata": {
        "id": "BzdSIESrhw3H"
      },
      "execution_count": 5,
      "outputs": []
    },
    {
      "cell_type": "code",
      "source": [
        "# 5. How would you catch and handle division by zero error in Python?\n",
        "try:\n",
        "    result = 10 / 0\n",
        "except ZeroDivisionError:\n",
        "    print(\"Cannot divide by zero!\")"
      ],
      "metadata": {
        "colab": {
          "base_uri": "https://localhost:8080/"
        },
        "id": "hwAM6RSshvcO",
        "outputId": "a35fc3b5-3c1a-457d-8a1b-e48adad7bfd6"
      },
      "execution_count": 6,
      "outputs": [
        {
          "output_type": "stream",
          "name": "stdout",
          "text": [
            "Cannot divide by zero!\n"
          ]
        }
      ]
    },
    {
      "cell_type": "code",
      "source": [
        "# 6. Write a Python program that logs an error message to a log file when a division by zero exception occurs.\n",
        "import logging\n",
        "logging.basicConfig(filename=\"error.log\", level=logging.ERROR)\n",
        "try:\n",
        "    result = 10 / 0\n",
        "except ZeroDivisionError:\n",
        "    logging.error(\"Division by zero occurred!\")"
      ],
      "metadata": {
        "colab": {
          "base_uri": "https://localhost:8080/"
        },
        "id": "ND4NPiV2ht5P",
        "outputId": "c0ed12d9-2fe7-4c3a-bdf6-cad073977493"
      },
      "execution_count": 7,
      "outputs": [
        {
          "output_type": "stream",
          "name": "stderr",
          "text": [
            "ERROR:root:Division by zero occurred!\n"
          ]
        }
      ]
    },
    {
      "cell_type": "code",
      "source": [
        "# 7. How do you log information at different levels (INFO, ERROR, WARNING) in Python using the logging module?\n",
        "logging.basicConfig(level=logging.DEBUG)\n",
        "logging.info(\"This is an INFO message\")\n",
        "logging.warning(\"This is a WARNING message\")\n",
        "logging.error(\"This is an ERROR message\")"
      ],
      "metadata": {
        "colab": {
          "base_uri": "https://localhost:8080/"
        },
        "id": "vl39buHqhsKU",
        "outputId": "068dd933-d40b-49dd-f0c4-79c183e00a3d"
      },
      "execution_count": 8,
      "outputs": [
        {
          "output_type": "stream",
          "name": "stderr",
          "text": [
            "WARNING:root:This is a WARNING message\n",
            "ERROR:root:This is an ERROR message\n"
          ]
        }
      ]
    },
    {
      "cell_type": "code",
      "source": [
        "# 8. Write a program to handle a file opening error using exception handling.\n",
        "try:\n",
        "    with open(\"missing_file.txt\", \"r\") as file:\n",
        "        content = file.read()\n",
        "except FileNotFoundError:\n",
        "    print(\"File could not be found!\")"
      ],
      "metadata": {
        "colab": {
          "base_uri": "https://localhost:8080/"
        },
        "id": "h2INJfuAhqnX",
        "outputId": "72f718d2-3d81-4f82-8dd7-fbec92de4fd4"
      },
      "execution_count": 9,
      "outputs": [
        {
          "output_type": "stream",
          "name": "stdout",
          "text": [
            "File could not be found!\n"
          ]
        }
      ]
    },
    {
      "cell_type": "code",
      "source": [
        "# 9. How can you read a file line by line and store its content in a list in Python?\n",
        "with open(\"example.txt\", \"r\") as file:\n",
        "    lines = file.readlines()\n",
        "print(lines)"
      ],
      "metadata": {
        "colab": {
          "base_uri": "https://localhost:8080/"
        },
        "id": "HCacRmLvhoG2",
        "outputId": "b1c2b084-8f45-4f34-9299-8688f989bd19"
      },
      "execution_count": 10,
      "outputs": [
        {
          "output_type": "stream",
          "name": "stdout",
          "text": [
            "['Hello, world!']\n"
          ]
        }
      ]
    },
    {
      "cell_type": "code",
      "source": [
        "# 10. How can you append data to an existing file in Python?\n",
        "with open(\"example.txt\", \"a\") as file:\n",
        "    file.write(\"\\nAppending new data.\")"
      ],
      "metadata": {
        "id": "heJDPlQdhmo6"
      },
      "execution_count": 11,
      "outputs": []
    },
    {
      "cell_type": "code",
      "source": [
        "# 11. Write a Python program that uses a try-except block to handle an error when attempting to access a dictionary key that doesn't exist.\n",
        "data = {\"name\": \"Zaid\"}\n",
        "try:\n",
        "    print(data[\"age\"])\n",
        "except KeyError:\n",
        "    print(\"Key not found!\")"
      ],
      "metadata": {
        "colab": {
          "base_uri": "https://localhost:8080/"
        },
        "id": "z8sdcyRChlVv",
        "outputId": "b3450b5e-861d-41bb-c40e-b4d8f4e866b0"
      },
      "execution_count": 12,
      "outputs": [
        {
          "output_type": "stream",
          "name": "stdout",
          "text": [
            "Key not found!\n"
          ]
        }
      ]
    },
    {
      "cell_type": "code",
      "source": [
        "# 12. Write a program that demonstrates using multiple except blocks to handle different types of exceptions.\n",
        "try:\n",
        "    x = int(\"abc\")\n",
        "except ValueError:\n",
        "    print(\"Invalid integer conversion!\")\n",
        "except ZeroDivisionError:\n",
        "    print(\"Cannot divide by zero!\")\n"
      ],
      "metadata": {
        "colab": {
          "base_uri": "https://localhost:8080/"
        },
        "id": "Sk3SpV-lhkwC",
        "outputId": "f7256e97-ece1-420e-9737-548ecbb434de"
      },
      "execution_count": 13,
      "outputs": [
        {
          "output_type": "stream",
          "name": "stdout",
          "text": [
            "Invalid integer conversion!\n"
          ]
        }
      ]
    },
    {
      "cell_type": "code",
      "source": [
        "# 13. How would you check if a file exists before attempting to read it in Python?\n",
        "import os\n",
        "if os.path.exists(\"example.txt\"):\n",
        "    with open(\"example.txt\", \"r\") as file:\n",
        "        print(file.read())\n",
        "else:\n",
        "    print(\"File does not exist!\")"
      ],
      "metadata": {
        "colab": {
          "base_uri": "https://localhost:8080/"
        },
        "id": "ifThE85thhWe",
        "outputId": "162906aa-f449-4d12-a742-9df1111cb50b"
      },
      "execution_count": 14,
      "outputs": [
        {
          "output_type": "stream",
          "name": "stdout",
          "text": [
            "Hello, world!\n",
            "Appending new data.\n"
          ]
        }
      ]
    },
    {
      "cell_type": "code",
      "source": [
        "# 14. Write a program that uses the logging module to log both informational and error messages.\n",
        "logging.basicConfig(filename=\"app.log\", level=logging.DEBUG)\n",
        "logging.info(\"This is an informational message.\")\n",
        "logging.error(\"This is an error message.\")"
      ],
      "metadata": {
        "colab": {
          "base_uri": "https://localhost:8080/"
        },
        "id": "QYhodL6xhfmO",
        "outputId": "01f39247-c3b0-49d4-eb82-7ccf0bb41a85"
      },
      "execution_count": 15,
      "outputs": [
        {
          "output_type": "stream",
          "name": "stderr",
          "text": [
            "ERROR:root:This is an error message.\n"
          ]
        }
      ]
    },
    {
      "cell_type": "code",
      "source": [
        "# 15. Write a Python program that prints the content of a file and handles the case when the file is empty.\n",
        "with open(\"example.txt\", \"r\") as file:\n",
        "    content = file.read()\n",
        "    if content:\n",
        "        print(content)\n",
        "    else:\n",
        "        print(\"The file is empty.\")"
      ],
      "metadata": {
        "colab": {
          "base_uri": "https://localhost:8080/"
        },
        "id": "vThj0ofahdkX",
        "outputId": "d0645733-f70c-4b6c-8267-62da0291eb6d"
      },
      "execution_count": 16,
      "outputs": [
        {
          "output_type": "stream",
          "name": "stdout",
          "text": [
            "Hello, world!\n",
            "Appending new data.\n"
          ]
        }
      ]
    },
    {
      "cell_type": "code",
      "source": [
        "# 16. Demonstrate how to use memory profiling to check the memory usage of a small program.\n",
        "import psutil\n",
        "def memory_usage():\n",
        "    process = psutil.Process()\n",
        "    return process.memory_info().rss / (1024 * 1024)  # Convert to MB\n",
        "before = memory_usage()\n",
        "a = [i for i in range(10000)]\n",
        "after = memory_usage()\n",
        "print(f\"Memory usage before: {before:.2f} MB\")\n",
        "print(f\"Memory usage after: {after:.2f} MB\")"
      ],
      "metadata": {
        "colab": {
          "base_uri": "https://localhost:8080/"
        },
        "id": "WqA8lY2Nhb5_",
        "outputId": "fc236d68-f345-402b-9efb-387dfcc0ce74"
      },
      "execution_count": 23,
      "outputs": [
        {
          "output_type": "stream",
          "name": "stdout",
          "text": [
            "Memory usage before: 101.70 MB\n",
            "Memory usage after: 101.70 MB\n"
          ]
        }
      ]
    },
    {
      "cell_type": "code",
      "source": [
        "# 17. Write a Python program to create and write a list of numbers to a file, one number per line.\n",
        "numbers = [1, 2, 3, 4, 5]\n",
        "with open(\"numbers.txt\", \"w\") as file:\n",
        "    for num in numbers:\n",
        "        file.write(f\"{num}\\n\")"
      ],
      "metadata": {
        "id": "Yt0yaBdHhZOG"
      },
      "execution_count": 24,
      "outputs": []
    },
    {
      "cell_type": "code",
      "source": [
        "# 18. How would you implement a basic logging setup that logs to a file with rotation after 1MB?\n",
        "from logging.handlers import RotatingFileHandler\n",
        "handler = RotatingFileHandler(\"rotating.log\", maxBytes=1_000_000, backupCount=3)\n",
        "logger = logging.getLogger(\"RotatingLogger\")\n",
        "logger.addHandler(handler)\n",
        "logger.setLevel(logging.DEBUG)\n",
        "logger.info(\"This is a rotating log entry.\")"
      ],
      "metadata": {
        "colab": {
          "base_uri": "https://localhost:8080/"
        },
        "id": "011UkYvThXfA",
        "outputId": "dcba0d77-c9bf-4f0c-ee90-7822c5a1be72"
      },
      "execution_count": 25,
      "outputs": [
        {
          "output_type": "stream",
          "name": "stderr",
          "text": [
            "INFO:RotatingLogger:This is a rotating log entry.\n"
          ]
        }
      ]
    },
    {
      "cell_type": "code",
      "source": [
        "# 19. Write a program that handles both IndexError and KeyError using a try-except block.\n",
        "data = {\"name\": \"Alice\"}\n",
        "list_data = [1, 2, 3]\n",
        "try:\n",
        "    print(data[\"age\"])\n",
        "    print(list_data[5])\n",
        "except KeyError:\n",
        "    print(\"Key not found!\")\n",
        "except IndexError:\n",
        "    print(\"Index out of range!\")"
      ],
      "metadata": {
        "colab": {
          "base_uri": "https://localhost:8080/"
        },
        "id": "IZRw8dCphVn2",
        "outputId": "a4d77ad7-d48f-40d5-8c53-ac161cd389ee"
      },
      "execution_count": 26,
      "outputs": [
        {
          "output_type": "stream",
          "name": "stdout",
          "text": [
            "Key not found!\n"
          ]
        }
      ]
    },
    {
      "cell_type": "code",
      "source": [
        "# 20. How would you open a file and read its contents using a context manager in Python?\n",
        "with open(\"example.txt\", \"r\") as file:\n",
        "    content = file.read()\n",
        "print(content)\n"
      ],
      "metadata": {
        "colab": {
          "base_uri": "https://localhost:8080/"
        },
        "id": "L5ZSsjiKhT5K",
        "outputId": "5c0da337-161c-40b2-c7bc-3e57b11df64a"
      },
      "execution_count": 27,
      "outputs": [
        {
          "output_type": "stream",
          "name": "stdout",
          "text": [
            "Hello, world!\n",
            "Appending new data.\n"
          ]
        }
      ]
    },
    {
      "cell_type": "code",
      "source": [
        "# 21. Write a Python program that reads a file and prints the number of occurrences of a specific word.\n",
        "word = \"Hello\"\n",
        "with open(\"example.txt\", \"r\") as file:\n",
        "    text = file.read()\n",
        "print(f\"Occurrences of '{word}':\", text.count(word))"
      ],
      "metadata": {
        "colab": {
          "base_uri": "https://localhost:8080/"
        },
        "id": "BJAX15zohSOw",
        "outputId": "2047ae47-3d2c-45cd-a700-881bbc9df69d"
      },
      "execution_count": 30,
      "outputs": [
        {
          "output_type": "stream",
          "name": "stdout",
          "text": [
            "Occurrences of 'Hello': 1\n"
          ]
        }
      ]
    },
    {
      "cell_type": "code",
      "source": [
        "# 22. How can you check if a file is empty before attempting to read its contents?\n",
        "if os.stat(\"example.txt\").st_size == 0:\n",
        "    print(\"File is empty.\")\n",
        "else:\n",
        "    with open(\"example.txt\", \"r\") as file:\n",
        "        print(file.read())"
      ],
      "metadata": {
        "colab": {
          "base_uri": "https://localhost:8080/"
        },
        "id": "-MCCu826hQry",
        "outputId": "e8c4d982-f9fc-4399-b235-38020b071416"
      },
      "execution_count": 29,
      "outputs": [
        {
          "output_type": "stream",
          "name": "stdout",
          "text": [
            "Hello, world!\n",
            "Appending new data.\n"
          ]
        }
      ]
    },
    {
      "cell_type": "code",
      "source": [
        "# 23. Write a Python program that writes to a log file when an error occurs during file handling.\n",
        "try:\n",
        "    with open(\"missing.txt\", \"r\") as file:\n",
        "        content = file.read()\n",
        "except FileNotFoundError as e:\n",
        "    logging.error(\"File handling error: %s\", e)"
      ],
      "metadata": {
        "colab": {
          "base_uri": "https://localhost:8080/"
        },
        "id": "Xn2TWfDfhOb5",
        "outputId": "6bd613ef-8f72-4cc4-e9c6-bd7d0f46a1f9"
      },
      "execution_count": 31,
      "outputs": [
        {
          "output_type": "stream",
          "name": "stderr",
          "text": [
            "ERROR:root:File handling error: [Errno 2] No such file or directory: 'missing.txt'\n"
          ]
        }
      ]
    }
  ]
}